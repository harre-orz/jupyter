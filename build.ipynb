{
 "cells": [
  {
   "cell_type": "markdown",
   "metadata": {},
   "source": [
    "# はじめに\n",
    "\n",
    "Ansibleを使ってJupyterhub をLinuxホストに構築をする手順です。\n",
    "\n",
    "## 手順を最新に更新する\n",
    "\n",
    "以下のコマンドで master ブランチから最新の手順を取得します。もし手順を変更して未コミットの場合は、更新に失敗します。"
   ]
  },
  {
   "cell_type": "code",
   "execution_count": null,
   "metadata": {},
   "outputs": [],
   "source": [
    "git status | grep \"nothing to commit, working tree clean\" \\\n",
    " && git checkout master && git pull origin master \\\n",
    " && git branch | grep -v master | xargs --no-run-if-empty git branch -d"
   ]
  },
  {
   "cell_type": "markdown",
   "metadata": {},
   "source": [
    "更新に成功したら、F5キーなどで本ページをリロードさせます。\n",
    "\n",
    "## 手順を修正して最新に適用させる\n",
    "\n",
    "手順を修正したら、以下のコマンドで作業用のリモートブランチにコミットします。\n"
   ]
  },
  {
   "cell_type": "code",
   "execution_count": null,
   "metadata": {},
   "outputs": [],
   "source": [
    "memo=\"up\"\n",
    "([ \"$(git symbolic-ref --short HEAD)\" == \"master\" ] && git checkout -b $(date +'%Y%m%d')-$(whoami) || true) \\\n",
    " && git add . && (printf \"$memo\" | git commit -F-) && git push origin \"$(git symbolic-ref --short HEAD)\" --force"
   ]
  },
  {
   "cell_type": "markdown",
   "metadata": {},
   "source": [
    "コミットに成功したら GitLab にログインして master ブランチに反映するための `Merge Request` を行います。\n",
    "すでに手順に不備を指摘されて再びコミットする場合は `Merge request` は不要です。\n",
    "\n",
    "## 手順の特殊な操作\n",
    "\n",
    "### 変更中のファイル"
   ]
  },
  {
   "cell_type": "code",
   "execution_count": null,
   "metadata": {},
   "outputs": [],
   "source": [
    "# 変更したファイル名一覧を取得\n",
    "git status"
   ]
  },
  {
   "cell_type": "code",
   "execution_count": null,
   "metadata": {},
   "outputs": [],
   "source": [
    "# 変更したファイル差分を取得\n",
    "git diff"
   ]
  },
  {
   "cell_type": "markdown",
   "metadata": {},
   "source": [
    "### コミット履歴"
   ]
  },
  {
   "cell_type": "code",
   "execution_count": null,
   "metadata": {},
   "outputs": [],
   "source": [
    "# 簡易なコミット履歴（変更者とコメントのコミットツリーのみ）\n",
    "git log --pretty=format:\"%h - %an, %ar : %s\""
   ]
  },
  {
   "cell_type": "code",
   "execution_count": null,
   "metadata": {},
   "outputs": [],
   "source": [
    "# 詳細なコミット履歴（ファイル差分あり）\n",
    "git log -U1 --word-diff --color"
   ]
  },
  {
   "cell_type": "code",
   "execution_count": null,
   "metadata": {},
   "outputs": [],
   "source": []
  },
  {
   "cell_type": "markdown",
   "metadata": {},
   "source": [
    "### リビジョン番号を指定してプル\n",
    "\n",
    "＜注＞最新でない手順を使ってのコマンド実行は推奨していません。\n",
    "\n",
    "上記のコマンドで、手順を最新にしてから、rev変数の`リビジョン番号`を編集して、コマンドを実行してください。"
   ]
  },
  {
   "cell_type": "code",
   "execution_count": null,
   "metadata": {
    "deletable": false,
    "editable": false,
    "pinned_outputs": [],
    "run_control": {
     "frozen": true
    }
   },
   "outputs": [],
   "source": [
    "rev=\"リビジョン番号\"\n",
    "git checkout -b $(date +'%Y%m%d')-$(whoami) \"$rev\""
   ]
  },
  {
   "cell_type": "markdown",
   "metadata": {},
   "source": [
    "\n",
    "\n",
    "# 構築手順\n",
    "\n",
    "## 注意\n",
    "\n",
    "- SELinux は無効にしてください。CentOS はデフォルトで有効になっているので注意してください。\n",
    "- ファイヤーウォールに注意してください。標準は 8000 ポートになっているので、CentOS などでは拒否されています。\n",
    "\n",
    "## inventory ファイル\n",
    "\n",
    "inventory ファイルの `jupyterhub` に対象ホストのIPアドレスを指定します。"
   ]
  },
  {
   "cell_type": "code",
   "execution_count": null,
   "metadata": {
    "pinned_outputs": []
   },
   "outputs": [],
   "source": [
    "cat hosts"
   ]
  },
  {
   "cell_type": "markdown",
   "metadata": {},
   "source": [
    "## 公開鍵の登録\n",
    "\n",
    "対象ホストに以下の公開鍵を登録します。"
   ]
  },
  {
   "cell_type": "code",
   "execution_count": null,
   "metadata": {},
   "outputs": [],
   "source": [
    "cat ~/.ssh/id_rsa.pub"
   ]
  },
  {
   "cell_type": "markdown",
   "metadata": {},
   "source": [
    "登録が正しくできていれば、以下のコマンドの結果に`pong`が出力されます。"
   ]
  },
  {
   "cell_type": "code",
   "execution_count": null,
   "metadata": {
    "scrolled": true
   },
   "outputs": [],
   "source": [
    "USER=osboxes\n",
    "ansible -i hosts -b -u \"${USER}\" -m ping jupyterhub"
   ]
  },
  {
   "cell_type": "markdown",
   "metadata": {},
   "source": [
    "## Ansible で構築\n",
    "\n",
    "以下のコマンドで Jupyterhub を構築します。"
   ]
  },
  {
   "cell_type": "code",
   "execution_count": null,
   "metadata": {
    "pinned_outputs": [],
    "scrolled": false
   },
   "outputs": [],
   "source": [
    "ansible-playbook -i hosts -u \"${USER}\" site.yml"
   ]
  },
  {
   "cell_type": "markdown",
   "metadata": {},
   "source": [
    "### bootstrap.sh\n",
    "\n",
    "Jupyterhub から Jupyter プロセスを初めて起動させたときに `/etc/jupyterhub/bootstra.sh`が動くようになっています。\n",
    "このスクリプトにより、一般権限のユーザで、bash_kernel をインストールしたり、各種extensionの有効化を行ったり、Jupyter を利用しやすいように初期設定を行っています。\n"
   ]
  },
  {
   "cell_type": "code",
   "execution_count": null,
   "metadata": {},
   "outputs": [],
   "source": [
    "cat roles/jupyterhub/files/bootstrap.sh"
   ]
  }
 ],
 "metadata": {
  "kernelspec": {
   "display_name": "Bash",
   "language": "bash",
   "name": "bash"
  },
  "language_info": {
   "codemirror_mode": "shell",
   "file_extension": ".sh",
   "mimetype": "text/x-sh",
   "name": "bash"
  },
  "toc": {
   "base_numbering": 1,
   "nav_menu": {},
   "number_sections": true,
   "sideBar": true,
   "skip_h1_title": false,
   "title_cell": "Table of Contents",
   "title_sidebar": "Contents",
   "toc_cell": false,
   "toc_position": {
    "height": "calc(100% - 180px)",
    "left": "10px",
    "top": "150px",
    "width": "336px"
   },
   "toc_section_display": true,
   "toc_window_display": true
  }
 },
 "nbformat": 4,
 "nbformat_minor": 2
}
