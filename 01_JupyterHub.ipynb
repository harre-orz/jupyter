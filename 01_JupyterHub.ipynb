{
 "cells": [
  {
   "cell_type": "markdown",
   "metadata": {},
   "source": [
    "# 概要\n",
    "\n",
    "---\n",
    "\n",
    "JupyterHub は、Jupyter Notebook というノートブックと呼ばれる形式を実行しながら、結果を記録しデータ分析などを進めるツールにユーザ認証をつけた管理サーバです。ユーザごとに Jupyter Notebook サーバを起動・停止することができます。\n",
    "\n",
    "また、チームで Jupyter Notebook 環境を利用する場合にサーバ環境を統一することができます。サーバ環境を統一することにより、各ユーザの Jupyter Notebook 環境がベアメタル上の異なるサーバで起動することで生じる環境の乱立を排除することが可能となります。"
   ]
  },
  {
   "cell_type": "markdown",
   "metadata": {},
   "source": [
    "# 設計\n",
    "\n",
    "---\n",
    "\n",
    "当サーバは Ansible で構成管理を行います。"
   ]
  },
  {
   "cell_type": "markdown",
   "metadata": {},
   "source": [
    "## インストール可能なOS\n",
    "\n",
    "当サーバをインストール可能なOS（ディストリビューション）は、以下のいずれかです。\n",
    "\n",
    "- CentOS 7\n",
    "- Debian 9\n",
    "- Arch linux\n",
    "\n",
    "それぞれ必要なパッケージが異なるため以下の jupyterhub ロールの tasks フォルダ内で各OS依存の構築を行っています。"
   ]
  },
  {
   "cell_type": "code",
   "execution_count": null,
   "metadata": {},
   "outputs": [],
   "source": [
    "!find roles/jupyterhub/tasks/ -name \"*.yml\" ! -name \"main.yml\""
   ]
  },
  {
   "cell_type": "markdown",
   "metadata": {},
   "source": [
    "特に、CentOS 7 の場合 `python3` と `pip3` というコマンドが存在しないため、以下のようなシンボリックリンクを作成する荒業をしていたりします。\n",
    "\n",
    "```\n",
    "/usr/bin/python3 -> /usr/bin/python36\n",
    "/usr/bin/pip3    -> /usr/bin/pip36\n",
    "```\n",
    "\n",
    "詳しくは `centos-7.yml` を読んでください。"
   ]
  },
  {
   "cell_type": "markdown",
   "metadata": {},
   "source": [
    "## パッケージ管理\n",
    "\n",
    "OS固有のパッケージ管理(yumやdebなど)と pip、npm などのプログラム言語固有のパッケージ管理ツールを併用しています。\n",
    "\n",
    "OS固有のパッケージ管理は、パッケージ名が異なる場合が多々あるため、各OS依存の tasks 内に記述します。逆に pip や npm はOSに依存しないため `main.yml` に記述します。\n",
    "\n",
    "pip や npm はユーザのローカル環境に配置することも可能ですが、ユーザ環境に依存することによる問題を避ける方針のため、システム環境に配置をします。\n",
    "\n",
    "Jupyter の一部のモジュールが公式のパッケージではなく、有志が GitHub でメンテしているもの利用しています。その場合でも、可能な限りシステム環境にインストールします。\n"
   ]
  },
  {
   "cell_type": "markdown",
   "metadata": {},
   "source": [
    "## booststrap.sh\n",
    "\n",
    "JupyterHub でログインして Jupyter インスタンスを起動するときに `/etc/jupyter/bootstrap.sh` を実行します。このスクリプトは、ユーザ環境において必要なモジュールの有効化や、Gitの初期設定を行います。\n",
    "\n",
    "Gitの初期設定には、ユーザ名とメールアドレスの設定、ipynb ファイル形式をGitにコミットするときに出力結果は除外する処理を行っています。\n",
    "\n",
    "このスクリプトを実行結果は `bootstrap.log` に保存されるので、うまく動かない場合はこのログファイルを確認することができます。ファイルが鬱陶しいのであれば、削除しても全く問題ありません。"
   ]
  },
  {
   "cell_type": "markdown",
   "metadata": {},
   "source": [
    "## startup\n",
    "\n",
    "Notebook を開いたときに `~/.ipython/profile_default/startup/` フォルダに存在する Pythonスクリプト を実行させることができます。"
   ]
  },
  {
   "cell_type": "code",
   "execution_count": null,
   "metadata": {},
   "outputs": [],
   "source": [
    "!ls -l ~/.ipython/profile_default/startup/"
   ]
  },
  {
   "cell_type": "markdown",
   "metadata": {},
   "source": [
    "この startup.py に、シェルスクリプトの exit-code が `!0` のときにエラーにする処理を組み込んでいます。この処理がないと、Notebook のコードセルの実行に失敗してもエラーにならず処理が継続してしまうので、消さないように注意してください。\n",
    "\n",
    "万が一、消してしまっても Jupyterインスタンスを停止→起動でファイルを復活させることができます。"
   ]
  },
  {
   "cell_type": "markdown",
   "metadata": {},
   "source": [
    "# 構築手順\n",
    "\n",
    "---\n",
    "\n",
    "Ansible を使って JupyterHub サーバ構築します。\n",
    "\n",
    "## 諸注意\n",
    "\n",
    "- SELinux は無効にしてください。CentOS はデフォルトで有効になっているので注意してください。\n",
    "- ファイヤーウォールに注意してください。標準は 8000 ポートになっているので、CentOS の場合デフォルト設定だと拒否されています。\n",
    "\n",
    "## pingの確認\n",
    "\n",
    "以下を実行して、JupyterHub と疎通があることを確認してください。\n",
    "\n",
    "※このpingはネットワークの到達性を確認する ping コマンドではなく、Ansible で対象のサーバにログインできるかの確認を行います。"
   ]
  },
  {
   "cell_type": "code",
   "execution_count": null,
   "metadata": {},
   "outputs": [],
   "source": [
    "# ping確認\n",
    "!ansible -i hosts -b -u osboxes -m ping jupyterhub"
   ]
  },
  {
   "cell_type": "markdown",
   "metadata": {},
   "source": [
    "実行結果に`pong`という文字があれば正常です。もし、エラーになる場合は、ssh の公開鍵やパスワードが適切に設定されているかを確認してください。\n",
    "\n",
    "## Playbookの確認\n",
    "\n",
    "以下を実行して JupyterHub の Playbook をサーバに適用できるかを確認します。"
   ]
  },
  {
   "cell_type": "code",
   "execution_count": null,
   "metadata": {},
   "outputs": [],
   "source": [
    "# Playbook 確認\n",
    "!ansible-playbook -i hosts site.yml --check"
   ]
  },
  {
   "cell_type": "markdown",
   "metadata": {},
   "source": [
    "failed=0 であれば正常です。\n",
    "\n",
    "## Playbookの適用\n",
    "\n",
    "以下を実行して JupyterHub の Playbook を対処ホストに適用します。"
   ]
  },
  {
   "cell_type": "code",
   "execution_count": null,
   "metadata": {},
   "outputs": [],
   "source": [
    "# Playbook適用\n",
    "!ansible-playbook -i hosts site.yml"
   ]
  },
  {
   "cell_type": "markdown",
   "metadata": {},
   "source": [
    "failed=0 であれば、構築が完了です。\n",
    "\n",
    "# 正常性確認手順\n",
    "\n",
    "---\n",
    "\n",
    "## ノードチェック\n",
    "\n",
    "以下を実行して、サービスが正常に起動しているかを確認してください。"
   ]
  },
  {
   "cell_type": "code",
   "execution_count": null,
   "metadata": {},
   "outputs": [],
   "source": [
    "!ansible -i hosts jupyterhub -u osboxes -a \"goss v chdir=/etc/goss\""
   ]
  },
  {
   "cell_type": "markdown",
   "metadata": {},
   "source": [
    "Failed: 0 であれば正常です。\n",
    "\n",
    "## 外部からのアクセス確認\n",
    "\n",
    "以下を実行した結果のURLにアクセスして、JupyterHub の画面が表示されるかを確認してください。"
   ]
  },
  {
   "cell_type": "code",
   "execution_count": null,
   "metadata": {},
   "outputs": [],
   "source": [
    "hosts = !ansible -i hosts --list-hosts jupyterhub | sed 1d | tr -d ' '\n",
    "for h in hosts:\n",
    "    print(\"http://{}:8000\".format(h))"
   ]
  }
 ],
 "metadata": {
  "kernelspec": {
   "display_name": "Python 3",
   "language": "python",
   "name": "python3"
  },
  "language_info": {
   "codemirror_mode": {
    "name": "ipython",
    "version": 3
   },
   "file_extension": ".py",
   "mimetype": "text/x-python",
   "name": "python",
   "nbconvert_exporter": "python",
   "pygments_lexer": "ipython3",
   "version": "3.6.5"
  },
  "toc": {
   "base_numbering": 1,
   "nav_menu": {},
   "number_sections": true,
   "sideBar": true,
   "skip_h1_title": false,
   "title_cell": "Table of Contents",
   "title_sidebar": "Contents",
   "toc_cell": false,
   "toc_position": {
    "height": "calc(100% - 180px)",
    "left": "10px",
    "top": "150px",
    "width": "336px"
   },
   "toc_section_display": true,
   "toc_window_display": true
  }
 },
 "nbformat": 4,
 "nbformat_minor": 2
}
