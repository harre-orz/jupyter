{
 "cells": [
  {
   "cell_type": "markdown",
   "metadata": {
    "toc": true
   },
   "source": [
    "<h1>Table of Contents<span class=\"tocSkip\"></span></h1>\n",
    "<div class=\"toc\"><ul class=\"toc-item\"><li><span><a href=\"#はじめに\" data-toc-modified-id=\"はじめに-1\"><span class=\"toc-item-num\">1&nbsp;&nbsp;</span>はじめに</a></span><ul class=\"toc-item\"><li><span><a href=\"#注意\" data-toc-modified-id=\"注意-1.1\"><span class=\"toc-item-num\">1.1&nbsp;&nbsp;</span>注意</a></span></li></ul></li><li><span><a href=\"#構築手順\" data-toc-modified-id=\"構築手順-2\"><span class=\"toc-item-num\">2&nbsp;&nbsp;</span>構築手順</a></span><ul class=\"toc-item\"><li><span><a href=\"#inventory-ファイル\" data-toc-modified-id=\"inventory-ファイル-2.1\"><span class=\"toc-item-num\">2.1&nbsp;&nbsp;</span>inventory ファイル</a></span></li><li><span><a href=\"#公開鍵の登録\" data-toc-modified-id=\"公開鍵の登録-2.2\"><span class=\"toc-item-num\">2.2&nbsp;&nbsp;</span>公開鍵の登録</a></span></li><li><span><a href=\"#Ansible-で構築\" data-toc-modified-id=\"Ansible-で構築-2.3\"><span class=\"toc-item-num\">2.3&nbsp;&nbsp;</span>Ansible で構築</a></span><ul class=\"toc-item\"><li><span><a href=\"#bootstrap.sh\" data-toc-modified-id=\"bootstrap.sh-2.3.1\"><span class=\"toc-item-num\">2.3.1&nbsp;&nbsp;</span>bootstrap.sh</a></span></li></ul></li></ul></li></ul></div>"
   ]
  },
  {
   "cell_type": "markdown",
   "metadata": {},
   "source": [
    "# はじめに\n",
    "\n",
    "Ansibleを使ってJupyterhub をLinuxホストに構築をする手順です。\n",
    "\n",
    "## 注意\n",
    "\n",
    "- SELinux は無効にしてください。CentOS はデフォルトで有効になっているので注意してください。\n",
    "- ファイヤーウォールに注意してください。標準は 8000 ポートになっているので、CentOS などでは拒否されています。"
   ]
  },
  {
   "cell_type": "markdown",
   "metadata": {},
   "source": [
    "# 構築手順\n",
    "\n",
    "## inventory ファイル\n",
    "\n",
    "inventory ファイルの `jupyterhub` にLinuxホストのIPアドレスを指定します。"
   ]
  },
  {
   "cell_type": "code",
   "execution_count": null,
   "metadata": {
    "pinned_outputs": []
   },
   "outputs": [],
   "source": [
    "cat hosts"
   ]
  },
  {
   "cell_type": "markdown",
   "metadata": {},
   "source": [
    "## 公開鍵の登録\n",
    "\n",
    "対象のホストに以下の公開鍵を登録します。"
   ]
  },
  {
   "cell_type": "code",
   "execution_count": null,
   "metadata": {},
   "outputs": [],
   "source": [
    "cat ~/.ssh/id_rsa.pub"
   ]
  },
  {
   "cell_type": "markdown",
   "metadata": {},
   "source": [
    "登録が正しくできていれば、以下のコマンドの結果に`pong`が出力されます。"
   ]
  },
  {
   "cell_type": "code",
   "execution_count": null,
   "metadata": {
    "scrolled": true
   },
   "outputs": [],
   "source": [
    "USER=osboxes\n",
    "ansible -i hosts -b -u \"${USER}\" -m ping jupyterhub"
   ]
  },
  {
   "cell_type": "markdown",
   "metadata": {},
   "source": [
    "## Ansible で構築\n",
    "\n",
    "以下のコマンドで Jupyterhub を構築します。"
   ]
  },
  {
   "cell_type": "code",
   "execution_count": null,
   "metadata": {
    "scrolled": true
   },
   "outputs": [],
   "source": [
    "ansible-playbook -i hosts -u \"${USER}\" site.yml"
   ]
  },
  {
   "cell_type": "markdown",
   "metadata": {},
   "source": [
    "### bootstrap.sh\n",
    "\n",
    "Jupyterhub から Jupyter プロセスを初めて起動させたときに `/etc/jupyterhub/bootstra.sh`が動くようになっています。\n",
    "このスクリプトにより、一般権限のユーザで、bash_kernel をインストールしたり、各種extensionの有効化を行ったり、Jupyter を利用しやすいように初期設定を行っています。\n"
   ]
  },
  {
   "cell_type": "code",
   "execution_count": null,
   "metadata": {},
   "outputs": [],
   "source": [
    "cat roles/jupyterhub/files/bootstrap.sh"
   ]
  }
 ],
 "metadata": {
  "kernelspec": {
   "display_name": "Bash",
   "language": "bash",
   "name": "bash"
  },
  "language_info": {
   "codemirror_mode": "shell",
   "file_extension": ".sh",
   "mimetype": "text/x-sh",
   "name": "bash"
  },
  "toc": {
   "base_numbering": 1,
   "nav_menu": {},
   "number_sections": true,
   "sideBar": true,
   "skip_h1_title": false,
   "title_cell": "Table of Contents",
   "title_sidebar": "Contents",
   "toc_cell": true,
   "toc_position": {
    "height": "calc(100% - 180px)",
    "left": "10px",
    "top": "150px",
    "width": "336px"
   },
   "toc_section_display": true,
   "toc_window_display": true
  }
 },
 "nbformat": 4,
 "nbformat_minor": 2
}
